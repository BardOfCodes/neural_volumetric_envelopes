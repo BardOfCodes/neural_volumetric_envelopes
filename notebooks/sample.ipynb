{
 "cells": [
  {
   "cell_type": "code",
   "execution_count": null,
   "metadata": {},
   "outputs": [],
   "source": [
    "# Store any runnable examples you want to share!"
   ]
  }
 ],
 "metadata": {
  "kernelspec": {
   "display_name": "Python 3.7.10 ('panalytics')",
   "language": "python",
   "name": "python3"
  },
  "language_info": {
   "name": "python",
   "version": "3.7.10"
  },
  "orig_nbformat": 4,
  "vscode": {
   "interpreter": {
    "hash": "f1835d8451bdaa69b4779e002546427dc5ff36244c163e357e158314041afc4a"
   }
  }
 },
 "nbformat": 4,
 "nbformat_minor": 2
}
